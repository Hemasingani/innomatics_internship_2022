{
 "cells": [
  {
   "cell_type": "markdown",
   "id": "da68d9aa",
   "metadata": {},
   "source": [
    "#### Defanging an IP Address"
   ]
  },
  {
   "cell_type": "code",
   "execution_count": null,
   "id": "8e984147",
   "metadata": {},
   "outputs": [],
   "source": [
    "class Solution(object):\n",
    "    def defangIPaddr(self, address):\n",
    "        address = address.split(\".\")\n",
    "        return \"[.]\".join(address)\n",
    "ob1 = Solution()\n",
    "print(ob1.defangIPaddr(\"192.168.4.1\"))"
   ]
  },
  {
   "cell_type": "markdown",
   "id": "9476f98c",
   "metadata": {},
   "source": [
    "#### find numbers with even number of digits"
   ]
  },
  {
   "cell_type": "code",
   "execution_count": null,
   "id": "1c5e50bf",
   "metadata": {},
   "outputs": [],
   "source": [
    "class Solution(object):\n",
    "    def findNumbers(self, nums):\n",
    "        str_num = map(str, nums)\n",
    "        count = 0\n",
    "        for s in str_num:\n",
    "            if len(s) % 2 == 0:\n",
    "            count += 1\n",
    "        return count\n",
    "ob1 = Solution()\n",
    "print(ob1.findNumbers([12,345,2,6,7897]))"
   ]
  },
  {
   "cell_type": "markdown",
   "id": "403f1b3a",
   "metadata": {},
   "source": [
    "#### Number of Good Pairs"
   ]
  },
  {
   "cell_type": "code",
   "execution_count": null,
   "id": "e6989a72",
   "metadata": {},
   "outputs": [],
   "source": [
    "class Solution:\n",
    "    def numIdenticalPairs(self, nums):\n",
    "        f={}\n",
    "        ans=0\n",
    "        for num in nums:\n",
    "            if not num in f:\n",
    "                f[num]=0\n",
    "            f[num]+=1\n",
    "        \n",
    "        for num in f:\n",
    "            n=f[num]\n",
    "            ans+=(n*(n-1)//2)\n",
    "            \n",
    "        return ans"
   ]
  },
  {
   "cell_type": "markdown",
   "id": "2ce1bcd6",
   "metadata": {},
   "source": [
    "#### How Many Numbers Are Smaller Than the Current Number"
   ]
  },
  {
   "cell_type": "code",
   "execution_count": null,
   "id": "f62db54f",
   "metadata": {},
   "outputs": [],
   "source": [
    "class Solution:\n",
    "    def smallerNumbersThanCurrent(self, nums):\n",
    "        l=len(nums)\n",
    "        ans=[]\n",
    "        count=0\n",
    "        for i in nums:\n",
    "            for j in range(l):\n",
    "                if (nums[j]-i)<0:\n",
    "                    count+=1\n",
    "            ans.append(count)\n",
    "            count=0\n",
    "        return ans"
   ]
  },
  {
   "cell_type": "markdown",
   "id": "a3fa0989",
   "metadata": {},
   "source": [
    "#### Subtract the Product and Sum of Digits of an Integer"
   ]
  },
  {
   "cell_type": "code",
   "execution_count": null,
   "id": "2ea1cbb2",
   "metadata": {},
   "outputs": [],
   "source": [
    "class Solution:\n",
    "    def subtractProductAndSum(self, n):\n",
    "        str_n=str(n)\n",
    "        p=1\n",
    "        sum_n = 0\n",
    "        for i in str_n:\n",
    "            p *= int(i)\n",
    "            sum_n += int(i)\n",
    "            \n",
    "        return p - sum_n"
   ]
  },
  {
   "cell_type": "markdown",
   "id": "9e4c08a7",
   "metadata": {},
   "source": [
    "#### XOR Operation in an Array"
   ]
  },
  {
   "cell_type": "code",
   "execution_count": null,
   "id": "1a34040e",
   "metadata": {},
   "outputs": [],
   "source": [
    "class Solution:\n",
    "    def xorOperation(self, n, start):\n",
    "        ans=0\n",
    "        for i in range(n):\n",
    "            ans^=(start+i*2)\n",
    "        \n",
    "        return ans"
   ]
  }
 ],
 "metadata": {
  "kernelspec": {
   "display_name": "Python 3 (ipykernel)",
   "language": "python",
   "name": "python3"
  },
  "language_info": {
   "codemirror_mode": {
    "name": "ipython",
    "version": 3
   },
   "file_extension": ".py",
   "mimetype": "text/x-python",
   "name": "python",
   "nbconvert_exporter": "python",
   "pygments_lexer": "ipython3",
   "version": "3.9.7"
  }
 },
 "nbformat": 4,
 "nbformat_minor": 5
}
