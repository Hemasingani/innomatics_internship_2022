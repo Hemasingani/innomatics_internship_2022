{
 "cells": [
  {
   "cell_type": "markdown",
   "id": "eda81740",
   "metadata": {},
   "source": [
    "#### Maximum Product of Two Elements in an Array"
   ]
  },
  {
   "cell_type": "code",
   "execution_count": 1,
   "id": "b752ead4",
   "metadata": {},
   "outputs": [],
   "source": [
    "class Solution:\n",
    "    def maxProduct(self, nums):\n",
    "        l=len(nums)\n",
    "        nums=sorted(nums,reverse=True)\n",
    "        return (nums[0]-1)*(nums[1]-1)"
   ]
  },
  {
   "cell_type": "markdown",
   "id": "7fd95d58",
   "metadata": {},
   "source": [
    "#### Count Number of Teams"
   ]
  },
  {
   "cell_type": "code",
   "execution_count": 2,
   "id": "4b270db3",
   "metadata": {},
   "outputs": [],
   "source": [
    "class Solution(object):\n",
    "    def numTeams(self, rating):\n",
    "        \"\"\"\n",
    "        :type rating: List[int]\n",
    "        :rtype: int\n",
    "        \"\"\"\n",
    "        counter = 0\n",
    "        for i in range(len(rating)):\n",
    "            for j in range(len(rating)):\n",
    "                for k in range(len(rating)):\n",
    "                    if i < j < k and ((rating[i] < rating[j] < rating[k]) or (rating[i] > rating[j] > rating[k])):\n",
    "                        counter += 1\n",
    "                        \n",
    "        return counter"
   ]
  },
  {
   "cell_type": "markdown",
   "id": "c894763f",
   "metadata": {},
   "source": [
    "#### Number of Students Doing Homework at a Given Time"
   ]
  },
  {
   "cell_type": "code",
   "execution_count": 3,
   "id": "7f931492",
   "metadata": {},
   "outputs": [],
   "source": [
    "class Solution:\n",
    "    def busyStudent(self, startTime, endTime, queryTime):\n",
    "        ans=0\n",
    "        m=zip(startTime, endTime)\n",
    "        for s, e in m:\n",
    "            if s<=queryTime<=e:\n",
    "                ans+=1\n",
    "        return ans"
   ]
  },
  {
   "cell_type": "markdown",
   "id": "749aa67e",
   "metadata": {},
   "source": [
    "#### Number of Steps to Reduce a Number to Zero"
   ]
  },
  {
   "cell_type": "code",
   "execution_count": 4,
   "id": "8ce20dca",
   "metadata": {},
   "outputs": [],
   "source": [
    "import math\n",
    "class Solution:\n",
    "    def numberOfSteps (self, num):\n",
    "        step=0\n",
    "        while(num>0):\n",
    "            if num % 2 ==0:\n",
    "                num=num//2\n",
    "            else:\n",
    "                num-=1\n",
    "            step+=1\n",
    "        return step"
   ]
  },
  {
   "cell_type": "markdown",
   "id": "cc14ee80",
   "metadata": {},
   "source": [
    "#### Counting Bits"
   ]
  },
  {
   "cell_type": "code",
   "execution_count": 5,
   "id": "fdee194d",
   "metadata": {},
   "outputs": [],
   "source": [
    "class Solution:\n",
    "    def countBits(self, n):\n",
    "        ans=[]\n",
    "        for i in range(n+1):\n",
    "            temp=bin(i).replace('ob', '')\n",
    "            ans.append(temp.count('1'))\n",
    "            \n",
    "        return ans"
   ]
  },
  {
   "cell_type": "code",
   "execution_count": null,
   "id": "4825dedd",
   "metadata": {},
   "outputs": [],
   "source": []
  }
 ],
 "metadata": {
  "kernelspec": {
   "display_name": "Python 3 (ipykernel)",
   "language": "python",
   "name": "python3"
  },
  "language_info": {
   "codemirror_mode": {
    "name": "ipython",
    "version": 3
   },
   "file_extension": ".py",
   "mimetype": "text/x-python",
   "name": "python",
   "nbconvert_exporter": "python",
   "pygments_lexer": "ipython3",
   "version": "3.9.7"
  }
 },
 "nbformat": 4,
 "nbformat_minor": 5
}
