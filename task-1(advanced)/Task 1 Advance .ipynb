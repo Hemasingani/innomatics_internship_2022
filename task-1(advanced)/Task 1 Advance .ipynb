{
 "cells": [
  {
   "cell_type": "markdown",
   "id": "59b2f234",
   "metadata": {},
   "source": [
    "### Sum of 1d Array"
   ]
  },
  {
   "cell_type": "code",
   "execution_count": null,
   "id": "7a1ba6a2",
   "metadata": {},
   "outputs": [],
   "source": [
    "class Solution:\n",
    "    def runningSum(self, nums: List[int]) -> List[int]:\n",
    "        ans = [0] * len(nums)\n",
    "        ans[0] = nums[0]\n",
    "        for i in range(1, len(nums)):\n",
    "            ans[i] = ans[i-1] + nums[i]\n",
    "        return ans"
   ]
  },
  {
   "cell_type": "markdown",
   "id": "c707f0e5",
   "metadata": {},
   "source": [
    "### Shuffle the array"
   ]
  },
  {
   "cell_type": "code",
   "execution_count": 2,
   "id": "72d43a0a",
   "metadata": {},
   "outputs": [],
   "source": [
    "class Solution(object):\n",
    "    def shuffle(self, nums, n):\n",
    "        result = []\n",
    "        for index in range(n):\n",
    "            result.append(nums[index])\n",
    "            result.append(nums[index + n])\n",
    "        return result"
   ]
  },
  {
   "cell_type": "markdown",
   "id": "cfe28220",
   "metadata": {},
   "source": [
    "### Kids With the Greatest Number of Candies"
   ]
  },
  {
   "cell_type": "code",
   "execution_count": null,
   "id": "4d21fabd",
   "metadata": {},
   "outputs": [],
   "source": [
    "class Solution:\n",
    "    def kidsWithCandies(self, candies, extraCandies):\n",
    "        l=len(candies)\n",
    "        ans=[]\n",
    "        for i in range(l):\n",
    "            if candies[i]+extraCandies >= max(candies):\n",
    "                ans.append(True)\n",
    "            else:\n",
    "                ans.append(False)\n",
    "        return ans"
   ]
  }
 ],
 "metadata": {
  "kernelspec": {
   "display_name": "Python 3 (ipykernel)",
   "language": "python",
   "name": "python3"
  },
  "language_info": {
   "codemirror_mode": {
    "name": "ipython",
    "version": 3
   },
   "file_extension": ".py",
   "mimetype": "text/x-python",
   "name": "python",
   "nbconvert_exporter": "python",
   "pygments_lexer": "ipython3",
   "version": "3.9.7"
  }
 },
 "nbformat": 4,
 "nbformat_minor": 5
}
